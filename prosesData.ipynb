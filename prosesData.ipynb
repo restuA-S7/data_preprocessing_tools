{
 "cells": [
  {
   "cell_type": "markdown",
   "id": "0d5ad568",
   "metadata": {},
   "source": [
    "Importing the libraries"
   ]
  },
  {
   "cell_type": "code",
   "execution_count": 2,
   "id": "38737851",
   "metadata": {},
   "outputs": [
    {
     "name": "stdout",
     "output_type": "stream",
     "text": [
      "Collecting numpy\n",
      "  Downloading numpy-2.3.1-cp313-cp313-win_amd64.whl.metadata (60 kB)\n",
      "Downloading numpy-2.3.1-cp313-cp313-win_amd64.whl (12.7 MB)\n",
      "   ---------------------------------------- 0.0/12.7 MB ? eta -:--:--\n",
      "    --------------------------------------- 0.3/12.7 MB ? eta -:--:--\n",
      "   - -------------------------------------- 0.5/12.7 MB 1.5 MB/s eta 0:00:09\n",
      "   -- ------------------------------------- 0.8/12.7 MB 1.4 MB/s eta 0:00:09\n",
      "   --- ------------------------------------ 1.0/12.7 MB 1.5 MB/s eta 0:00:08\n",
      "   ---- ----------------------------------- 1.3/12.7 MB 1.3 MB/s eta 0:00:10\n",
      "   ----- ---------------------------------- 1.8/12.7 MB 1.4 MB/s eta 0:00:08\n",
      "   ------ --------------------------------- 2.1/12.7 MB 1.6 MB/s eta 0:00:07\n",
      "   --------- ------------------------------ 2.9/12.7 MB 1.7 MB/s eta 0:00:06\n",
      "   --------- ------------------------------ 2.9/12.7 MB 1.7 MB/s eta 0:00:06\n",
      "   --------- ------------------------------ 3.1/12.7 MB 1.5 MB/s eta 0:00:07\n",
      "   ----------- ---------------------------- 3.7/12.7 MB 1.6 MB/s eta 0:00:06\n",
      "   ------------- -------------------------- 4.2/12.7 MB 1.7 MB/s eta 0:00:06\n",
      "   -------------- ------------------------- 4.7/12.7 MB 1.7 MB/s eta 0:00:05\n",
      "   ---------------- ----------------------- 5.2/12.7 MB 1.8 MB/s eta 0:00:05\n",
      "   ---------------- ----------------------- 5.2/12.7 MB 1.8 MB/s eta 0:00:05\n",
      "   ---------------- ----------------------- 5.2/12.7 MB 1.8 MB/s eta 0:00:05\n",
      "   ---------------- ----------------------- 5.2/12.7 MB 1.8 MB/s eta 0:00:05\n",
      "   ---------------- ----------------------- 5.2/12.7 MB 1.8 MB/s eta 0:00:05\n",
      "   ---------------- ----------------------- 5.2/12.7 MB 1.8 MB/s eta 0:00:05\n",
      "   ---------------- ----------------------- 5.2/12.7 MB 1.8 MB/s eta 0:00:05\n",
      "   ---------------- ----------------------- 5.2/12.7 MB 1.8 MB/s eta 0:00:05\n",
      "   ---------------- ----------------------- 5.2/12.7 MB 1.8 MB/s eta 0:00:05\n",
      "   ---------------- ----------------------- 5.2/12.7 MB 1.8 MB/s eta 0:00:05\n",
      "   ---------------- ----------------------- 5.2/12.7 MB 1.8 MB/s eta 0:00:05\n",
      "   ---------------- ----------------------- 5.2/12.7 MB 1.8 MB/s eta 0:00:05\n",
      "   ---------------- ----------------------- 5.2/12.7 MB 1.8 MB/s eta 0:00:05\n",
      "   ---------------- ----------------------- 5.2/12.7 MB 1.8 MB/s eta 0:00:05\n",
      "   ---------------- ----------------------- 5.2/12.7 MB 1.8 MB/s eta 0:00:05\n",
      "   ---------------- ----------------------- 5.2/12.7 MB 1.8 MB/s eta 0:00:05\n",
      "   ---------------- ----------------------- 5.2/12.7 MB 1.8 MB/s eta 0:00:05\n",
      "   ---------------- ----------------------- 5.2/12.7 MB 1.8 MB/s eta 0:00:05\n",
      "   ---------------- ----------------------- 5.2/12.7 MB 1.8 MB/s eta 0:00:05\n",
      "   ---------------- ----------------------- 5.2/12.7 MB 1.8 MB/s eta 0:00:05\n",
      "   ---------------- ----------------------- 5.2/12.7 MB 1.8 MB/s eta 0:00:05\n",
      "   ----------------- ---------------------- 5.5/12.7 MB 727.0 kB/s eta 0:00:10\n",
      "   ----------------- ---------------------- 5.5/12.7 MB 727.0 kB/s eta 0:00:10\n",
      "   ----------------- ---------------------- 5.5/12.7 MB 727.0 kB/s eta 0:00:10\n",
      "   ----------------- ---------------------- 5.5/12.7 MB 727.0 kB/s eta 0:00:10\n",
      "   ----------------- ---------------------- 5.5/12.7 MB 727.0 kB/s eta 0:00:10\n",
      "   ----------------- ---------------------- 5.5/12.7 MB 727.0 kB/s eta 0:00:10\n",
      "   ----------------- ---------------------- 5.5/12.7 MB 727.0 kB/s eta 0:00:10\n",
      "   ----------------- ---------------------- 5.5/12.7 MB 727.0 kB/s eta 0:00:10\n",
      "   ----------------- ---------------------- 5.5/12.7 MB 727.0 kB/s eta 0:00:10\n",
      "   ------------------ --------------------- 5.8/12.7 MB 609.4 kB/s eta 0:00:12\n",
      "   ------------------ --------------------- 5.8/12.7 MB 609.4 kB/s eta 0:00:12\n",
      "   ------------------- -------------------- 6.3/12.7 MB 633.9 kB/s eta 0:00:11\n",
      "   --------------------- ------------------ 6.8/12.7 MB 678.5 kB/s eta 0:00:09\n",
      "   ----------------------- ---------------- 7.3/12.7 MB 717.2 kB/s eta 0:00:08\n",
      "   ------------------------ --------------- 7.9/12.7 MB 748.8 kB/s eta 0:00:07\n",
      "   ------------------------- -------------- 8.1/12.7 MB 765.2 kB/s eta 0:00:07\n",
      "   -------------------------- ------------- 8.4/12.7 MB 771.5 kB/s eta 0:00:06\n",
      "   ---------------------------- ----------- 8.9/12.7 MB 806.4 kB/s eta 0:00:05\n",
      "   ---------------------------- ----------- 9.2/12.7 MB 813.1 kB/s eta 0:00:05\n",
      "   ---------------------------- ----------- 9.2/12.7 MB 813.1 kB/s eta 0:00:05\n",
      "   ----------------------------- ---------- 9.4/12.7 MB 807.7 kB/s eta 0:00:05\n",
      "   ------------------------------ --------- 9.7/12.7 MB 816.2 kB/s eta 0:00:04\n",
      "   -------------------------------- ------- 10.5/12.7 MB 860.9 kB/s eta 0:00:03\n",
      "   --------------------------------- ------ 10.7/12.7 MB 873.1 kB/s eta 0:00:03\n",
      "   ------------------------------------ --- 11.5/12.7 MB 917.8 kB/s eta 0:00:02\n",
      "   ------------------------------------- -- 11.8/12.7 MB 926.3 kB/s eta 0:00:02\n",
      "   -------------------------------------- - 12.3/12.7 MB 952.5 kB/s eta 0:00:01\n",
      "   ---------------------------------------  12.6/12.7 MB 961.3 kB/s eta 0:00:01\n",
      "   ---------------------------------------  12.6/12.7 MB 961.3 kB/s eta 0:00:01\n",
      "   ---------------------------------------- 12.7/12.7 MB 944.2 kB/s eta 0:00:00\n",
      "Installing collected packages: numpy\n",
      "Successfully installed numpy-2.3.1\n",
      "Note: you may need to restart the kernel to use updated packages.\n"
     ]
    },
    {
     "name": "stderr",
     "output_type": "stream",
     "text": [
      "  WARNING: The scripts f2py.exe and numpy-config.exe are installed in 'c:\\Users\\rtirestu3456\\AppData\\Local\\Programs\\Python\\Python313\\Scripts' which is not on PATH.\n",
      "  Consider adding this directory to PATH or, if you prefer to suppress this warning, use --no-warn-script-location.\n",
      "\n",
      "[notice] A new release of pip is available: 25.0.1 -> 25.1.1\n",
      "[notice] To update, run: python.exe -m pip install --upgrade pip\n"
     ]
    }
   ],
   "source": [
    "pip install numpy"
   ]
  },
  {
   "cell_type": "code",
   "execution_count": 5,
   "id": "27fcff23",
   "metadata": {},
   "outputs": [
    {
     "name": "stdout",
     "output_type": "stream",
     "text": [
      "Collecting matplotlib\n",
      "  Downloading matplotlib-3.10.3-cp313-cp313-win_amd64.whl.metadata (11 kB)\n",
      "Collecting contourpy>=1.0.1 (from matplotlib)\n",
      "  Downloading contourpy-1.3.2-cp313-cp313-win_amd64.whl.metadata (5.5 kB)\n",
      "Collecting cycler>=0.10 (from matplotlib)\n",
      "  Downloading cycler-0.12.1-py3-none-any.whl.metadata (3.8 kB)\n",
      "Collecting fonttools>=4.22.0 (from matplotlib)\n",
      "  Downloading fonttools-4.58.4-cp313-cp313-win_amd64.whl.metadata (108 kB)\n",
      "Collecting kiwisolver>=1.3.1 (from matplotlib)\n",
      "  Downloading kiwisolver-1.4.8-cp313-cp313-win_amd64.whl.metadata (6.3 kB)\n",
      "Requirement already satisfied: numpy>=1.23 in c:\\users\\rtirestu3456\\appdata\\local\\programs\\python\\python313\\lib\\site-packages (from matplotlib) (2.3.1)\n",
      "Requirement already satisfied: packaging>=20.0 in c:\\users\\rtirestu3456\\appdata\\roaming\\python\\python313\\site-packages (from matplotlib) (25.0)\n",
      "Collecting pillow>=8 (from matplotlib)\n",
      "  Downloading pillow-11.2.1-cp313-cp313-win_amd64.whl.metadata (9.1 kB)\n",
      "Collecting pyparsing>=2.3.1 (from matplotlib)\n",
      "  Downloading pyparsing-3.2.3-py3-none-any.whl.metadata (5.0 kB)\n",
      "Requirement already satisfied: python-dateutil>=2.7 in c:\\users\\rtirestu3456\\appdata\\roaming\\python\\python313\\site-packages (from matplotlib) (2.9.0.post0)\n",
      "Requirement already satisfied: six>=1.5 in c:\\users\\rtirestu3456\\appdata\\roaming\\python\\python313\\site-packages (from python-dateutil>=2.7->matplotlib) (1.17.0)\n",
      "Downloading matplotlib-3.10.3-cp313-cp313-win_amd64.whl (8.1 MB)\n",
      "   ---------------------------------------- 0.0/8.1 MB ? eta -:--:--\n",
      "   - -------------------------------------- 0.3/8.1 MB ? eta -:--:--\n",
      "   -- ------------------------------------- 0.5/8.1 MB 1.6 MB/s eta 0:00:05\n",
      "   ----- ---------------------------------- 1.0/8.1 MB 1.6 MB/s eta 0:00:05\n",
      "   ----- ---------------------------------- 1.0/8.1 MB 1.6 MB/s eta 0:00:05\n",
      "   ------- -------------------------------- 1.6/8.1 MB 1.5 MB/s eta 0:00:05\n",
      "   --------- ------------------------------ 1.8/8.1 MB 1.7 MB/s eta 0:00:04\n",
      "   ----------- ---------------------------- 2.4/8.1 MB 1.6 MB/s eta 0:00:04\n",
      "   ----------- ---------------------------- 2.4/8.1 MB 1.6 MB/s eta 0:00:04\n",
      "   ----------- ---------------------------- 2.4/8.1 MB 1.6 MB/s eta 0:00:04\n",
      "   ------------ --------------------------- 2.6/8.1 MB 1.2 MB/s eta 0:00:05\n",
      "   ------------ --------------------------- 2.6/8.1 MB 1.2 MB/s eta 0:00:05\n",
      "   ------------ --------------------------- 2.6/8.1 MB 1.2 MB/s eta 0:00:05\n",
      "   ------------ --------------------------- 2.6/8.1 MB 1.2 MB/s eta 0:00:05\n",
      "   ------------ --------------------------- 2.6/8.1 MB 1.2 MB/s eta 0:00:05\n",
      "   ------------ --------------------------- 2.6/8.1 MB 1.2 MB/s eta 0:00:05\n",
      "   ------------ --------------------------- 2.6/8.1 MB 1.2 MB/s eta 0:00:05\n",
      "   -------------- ------------------------- 2.9/8.1 MB 794.5 kB/s eta 0:00:07\n",
      "   -------------- ------------------------- 2.9/8.1 MB 794.5 kB/s eta 0:00:07\n",
      "   --------------- ------------------------ 3.1/8.1 MB 770.1 kB/s eta 0:00:07\n",
      "   --------------- ------------------------ 3.1/8.1 MB 770.1 kB/s eta 0:00:07\n",
      "   --------------- ------------------------ 3.1/8.1 MB 770.1 kB/s eta 0:00:07\n",
      "   ---------------- ----------------------- 3.4/8.1 MB 720.5 kB/s eta 0:00:07\n",
      "   ---------------- ----------------------- 3.4/8.1 MB 720.5 kB/s eta 0:00:07\n",
      "   ------------------ --------------------- 3.7/8.1 MB 694.0 kB/s eta 0:00:07\n",
      "   ------------------ --------------------- 3.7/8.1 MB 694.0 kB/s eta 0:00:07\n",
      "   ------------------ --------------------- 3.7/8.1 MB 694.0 kB/s eta 0:00:07\n",
      "   ------------------- -------------------- 3.9/8.1 MB 680.9 kB/s eta 0:00:07\n",
      "   ------------------- -------------------- 3.9/8.1 MB 680.9 kB/s eta 0:00:07\n",
      "   -------------------- ------------------- 4.2/8.1 MB 662.5 kB/s eta 0:00:06\n",
      "   -------------------- ------------------- 4.2/8.1 MB 662.5 kB/s eta 0:00:06\n",
      "   ---------------------- ----------------- 4.5/8.1 MB 668.6 kB/s eta 0:00:06\n",
      "   ---------------------- ----------------- 4.5/8.1 MB 668.6 kB/s eta 0:00:06\n",
      "   ----------------------- ---------------- 4.7/8.1 MB 664.4 kB/s eta 0:00:06\n",
      "   ----------------------- ---------------- 4.7/8.1 MB 664.4 kB/s eta 0:00:06\n",
      "   ----------------------- ---------------- 4.7/8.1 MB 664.4 kB/s eta 0:00:06\n",
      "   ------------------------ --------------- 5.0/8.1 MB 640.1 kB/s eta 0:00:05\n",
      "   ------------------------ --------------- 5.0/8.1 MB 640.1 kB/s eta 0:00:05\n",
      "   ------------------------ --------------- 5.0/8.1 MB 640.1 kB/s eta 0:00:05\n",
      "   ------------------------- -------------- 5.2/8.1 MB 625.5 kB/s eta 0:00:05\n",
      "   ------------------------- -------------- 5.2/8.1 MB 625.5 kB/s eta 0:00:05\n",
      "   --------------------------- ------------ 5.5/8.1 MB 622.9 kB/s eta 0:00:05\n",
      "   --------------------------- ------------ 5.5/8.1 MB 622.9 kB/s eta 0:00:05\n",
      "   --------------------------- ------------ 5.5/8.1 MB 622.9 kB/s eta 0:00:05\n",
      "   --------------------------- ------------ 5.5/8.1 MB 622.9 kB/s eta 0:00:05\n",
      "   --------------------------- ------------ 5.5/8.1 MB 622.9 kB/s eta 0:00:05\n",
      "   --------------------------- ------------ 5.5/8.1 MB 622.9 kB/s eta 0:00:05\n",
      "   --------------------------- ------------ 5.5/8.1 MB 622.9 kB/s eta 0:00:05\n",
      "   --------------------------- ------------ 5.5/8.1 MB 622.9 kB/s eta 0:00:05\n",
      "   --------------------------- ------------ 5.5/8.1 MB 622.9 kB/s eta 0:00:05\n",
      "   --------------------------- ------------ 5.5/8.1 MB 622.9 kB/s eta 0:00:05\n",
      "   --------------------------- ------------ 5.5/8.1 MB 622.9 kB/s eta 0:00:05\n",
      "   --------------------------- ------------ 5.5/8.1 MB 622.9 kB/s eta 0:00:05\n",
      "   --------------------------- ------------ 5.5/8.1 MB 622.9 kB/s eta 0:00:05\n",
      "   --------------------------- ------------ 5.5/8.1 MB 622.9 kB/s eta 0:00:05\n",
      "   --------------------------- ------------ 5.5/8.1 MB 622.9 kB/s eta 0:00:05\n",
      "   --------------------------- ------------ 5.5/8.1 MB 622.9 kB/s eta 0:00:05\n",
      "   --------------------------- ------------ 5.5/8.1 MB 622.9 kB/s eta 0:00:05\n",
      "   --------------------------- ------------ 5.5/8.1 MB 622.9 kB/s eta 0:00:05\n",
      "   ---------------------------- ----------- 5.8/8.1 MB 453.6 kB/s eta 0:00:06\n",
      "   ---------------------------- ----------- 5.8/8.1 MB 453.6 kB/s eta 0:00:06\n",
      "   ---------------------------- ----------- 5.8/8.1 MB 453.6 kB/s eta 0:00:06\n",
      "   ---------------------------- ----------- 5.8/8.1 MB 453.6 kB/s eta 0:00:06\n",
      "   ---------------------------- ----------- 5.8/8.1 MB 453.6 kB/s eta 0:00:06\n",
      "   ---------------------------- ----------- 5.8/8.1 MB 453.6 kB/s eta 0:00:06\n",
      "   ---------------------------- ----------- 5.8/8.1 MB 453.6 kB/s eta 0:00:06\n",
      "   ---------------------------- ----------- 5.8/8.1 MB 453.6 kB/s eta 0:00:06\n",
      "   ---------------------------- ----------- 5.8/8.1 MB 453.6 kB/s eta 0:00:06\n",
      "   ---------------------------- ----------- 5.8/8.1 MB 453.6 kB/s eta 0:00:06\n",
      "   ---------------------------- ----------- 5.8/8.1 MB 453.6 kB/s eta 0:00:06\n",
      "   ---------------------------- ----------- 5.8/8.1 MB 453.6 kB/s eta 0:00:06\n",
      "   ---------------------------- ----------- 5.8/8.1 MB 453.6 kB/s eta 0:00:06\n",
      "   ----------------------------- ---------- 6.0/8.1 MB 382.8 kB/s eta 0:00:06\n",
      "   ------------------------------- -------- 6.3/8.1 MB 396.1 kB/s eta 0:00:05\n",
      "   ----------------------------------- ---- 7.1/8.1 MB 441.8 kB/s eta 0:00:03\n",
      "   -------------------------------------- - 7.9/8.1 MB 486.1 kB/s eta 0:00:01\n",
      "   ---------------------------------------- 8.1/8.1 MB 494.2 kB/s eta 0:00:00\n",
      "Downloading contourpy-1.3.2-cp313-cp313-win_amd64.whl (223 kB)\n",
      "Downloading cycler-0.12.1-py3-none-any.whl (8.3 kB)\n",
      "Downloading fonttools-4.58.4-cp313-cp313-win_amd64.whl (2.2 MB)\n",
      "   ---------------------------------------- 0.0/2.2 MB ? eta -:--:--\n",
      "   --------- ------------------------------ 0.5/2.2 MB 3.4 MB/s eta 0:00:01\n",
      "   ----------------------- ---------------- 1.3/2.2 MB 3.3 MB/s eta 0:00:01\n",
      "   ------------------------------------- -- 2.1/2.2 MB 3.6 MB/s eta 0:00:01\n",
      "   ---------------------------------------- 2.2/2.2 MB 3.2 MB/s eta 0:00:00\n",
      "Downloading kiwisolver-1.4.8-cp313-cp313-win_amd64.whl (71 kB)\n",
      "Downloading pillow-11.2.1-cp313-cp313-win_amd64.whl (2.7 MB)\n",
      "   ---------------------------------------- 0.0/2.7 MB ? eta -:--:--\n",
      "   ----------- ---------------------------- 0.8/2.7 MB 4.2 MB/s eta 0:00:01\n",
      "   ----------------------- ---------------- 1.6/2.7 MB 4.1 MB/s eta 0:00:01\n",
      "   ------------------------------- -------- 2.1/2.7 MB 3.7 MB/s eta 0:00:01\n",
      "   ---------------------------------------- 2.7/2.7 MB 3.3 MB/s eta 0:00:00\n",
      "Downloading pyparsing-3.2.3-py3-none-any.whl (111 kB)\n",
      "Installing collected packages: pyparsing, pillow, kiwisolver, fonttools, cycler, contourpy, matplotlib\n",
      "Successfully installed contourpy-1.3.2 cycler-0.12.1 fonttools-4.58.4 kiwisolver-1.4.8 matplotlib-3.10.3 pillow-11.2.1 pyparsing-3.2.3\n",
      "Note: you may need to restart the kernel to use updated packages.\n"
     ]
    },
    {
     "name": "stderr",
     "output_type": "stream",
     "text": [
      "  WARNING: The scripts fonttools.exe, pyftmerge.exe, pyftsubset.exe and ttx.exe are installed in 'c:\\Users\\rtirestu3456\\AppData\\Local\\Programs\\Python\\Python313\\Scripts' which is not on PATH.\n",
      "  Consider adding this directory to PATH or, if you prefer to suppress this warning, use --no-warn-script-location.\n",
      "\n",
      "[notice] A new release of pip is available: 25.0.1 -> 25.1.1\n",
      "[notice] To update, run: python.exe -m pip install --upgrade pip\n"
     ]
    }
   ],
   "source": [
    "pip install matplotlib"
   ]
  },
  {
   "cell_type": "code",
   "execution_count": 6,
   "metadata": {},
   "outputs": [
    {
     "name": "stdout",
     "output_type": "stream",
     "text": [
      "Collecting pandas\n",
      "  Downloading pandas-2.3.0-cp313-cp313-win_amd64.whl.metadata (19 kB)\n",
      "Requirement already satisfied: numpy>=1.26.0 in c:\\users\\rtirestu3456\\appdata\\local\\programs\\python\\python313\\lib\\site-packages (from pandas) (2.3.1)\n",
      "Requirement already satisfied: python-dateutil>=2.8.2 in c:\\users\\rtirestu3456\\appdata\\roaming\\python\\python313\\site-packages (from pandas) (2.9.0.post0)\n",
      "Collecting pytz>=2020.1 (from pandas)\n",
      "  Downloading pytz-2025.2-py2.py3-none-any.whl.metadata (22 kB)\n",
      "Collecting tzdata>=2022.7 (from pandas)\n",
      "  Downloading tzdata-2025.2-py2.py3-none-any.whl.metadata (1.4 kB)\n",
      "Requirement already satisfied: six>=1.5 in c:\\users\\rtirestu3456\\appdata\\roaming\\python\\python313\\site-packages (from python-dateutil>=2.8.2->pandas) (1.17.0)\n",
      "Downloading pandas-2.3.0-cp313-cp313-win_amd64.whl (11.0 MB)\n",
      "   ---------------------------------------- 0.0/11.0 MB ? eta -:--:--\n",
      "    --------------------------------------- 0.3/11.0 MB ? eta -:--:--\n",
      "   - -------------------------------------- 0.5/11.0 MB 1.4 MB/s eta 0:00:08\n",
      "   - -------------------------------------- 0.5/11.0 MB 1.4 MB/s eta 0:00:08\n",
      "   -- ------------------------------------- 0.8/11.0 MB 920.7 kB/s eta 0:00:12\n",
      "   -- ------------------------------------- 0.8/11.0 MB 920.7 kB/s eta 0:00:12\n",
      "   -- ------------------------------------- 0.8/11.0 MB 920.7 kB/s eta 0:00:12\n",
      "   --- ------------------------------------ 1.0/11.0 MB 704.7 kB/s eta 0:00:15\n",
      "   --- ------------------------------------ 1.0/11.0 MB 704.7 kB/s eta 0:00:15\n",
      "   ---- ----------------------------------- 1.3/11.0 MB 614.5 kB/s eta 0:00:16\n",
      "   ---- ----------------------------------- 1.3/11.0 MB 614.5 kB/s eta 0:00:16\n",
      "   ---- ----------------------------------- 1.3/11.0 MB 614.5 kB/s eta 0:00:16\n",
      "   ----- ---------------------------------- 1.6/11.0 MB 560.5 kB/s eta 0:00:17\n",
      "   ----- ---------------------------------- 1.6/11.0 MB 560.5 kB/s eta 0:00:17\n",
      "   ------ --------------------------------- 1.8/11.0 MB 565.4 kB/s eta 0:00:17\n",
      "   ------ --------------------------------- 1.8/11.0 MB 565.4 kB/s eta 0:00:17\n",
      "   ------ --------------------------------- 1.8/11.0 MB 565.4 kB/s eta 0:00:17\n",
      "   ------ --------------------------------- 1.8/11.0 MB 565.4 kB/s eta 0:00:17\n",
      "   ------- -------------------------------- 2.1/11.0 MB 523.3 kB/s eta 0:00:17\n",
      "   ------- -------------------------------- 2.1/11.0 MB 523.3 kB/s eta 0:00:17\n",
      "   ------- -------------------------------- 2.1/11.0 MB 523.3 kB/s eta 0:00:17\n",
      "   -------- ------------------------------- 2.4/11.0 MB 510.6 kB/s eta 0:00:17\n",
      "   --------- ------------------------------ 2.6/11.0 MB 530.2 kB/s eta 0:00:16\n",
      "   --------- ------------------------------ 2.6/11.0 MB 530.2 kB/s eta 0:00:16\n",
      "   --------- ------------------------------ 2.6/11.0 MB 530.2 kB/s eta 0:00:16\n",
      "   ---------- ----------------------------- 2.9/11.0 MB 522.8 kB/s eta 0:00:16\n",
      "   ---------- ----------------------------- 2.9/11.0 MB 522.8 kB/s eta 0:00:16\n",
      "   ---------- ----------------------------- 2.9/11.0 MB 522.8 kB/s eta 0:00:16\n",
      "   ----------- ---------------------------- 3.1/11.0 MB 515.7 kB/s eta 0:00:16\n",
      "   ----------- ---------------------------- 3.1/11.0 MB 515.7 kB/s eta 0:00:16\n",
      "   ------------ --------------------------- 3.4/11.0 MB 520.5 kB/s eta 0:00:15\n",
      "   -------------- ------------------------- 3.9/11.0 MB 580.2 kB/s eta 0:00:13\n",
      "   --------------- ------------------------ 4.2/11.0 MB 613.9 kB/s eta 0:00:12\n",
      "   ---------------- ----------------------- 4.5/11.0 MB 623.4 kB/s eta 0:00:11\n",
      "   ----------------- ---------------------- 4.7/11.0 MB 637.7 kB/s eta 0:00:10\n",
      "   ------------------ --------------------- 5.0/11.0 MB 654.0 kB/s eta 0:00:10\n",
      "   ------------------- -------------------- 5.2/11.0 MB 676.3 kB/s eta 0:00:09\n",
      "   -------------------- ------------------- 5.5/11.0 MB 694.8 kB/s eta 0:00:08\n",
      "   --------------------- ------------------ 5.8/11.0 MB 704.0 kB/s eta 0:00:08\n",
      "   --------------------- ------------------ 5.8/11.0 MB 704.0 kB/s eta 0:00:08\n",
      "   ---------------------- ----------------- 6.3/11.0 MB 732.5 kB/s eta 0:00:07\n",
      "   ----------------------- ---------------- 6.6/11.0 MB 751.7 kB/s eta 0:00:06\n",
      "   ------------------------- -------------- 7.1/11.0 MB 791.3 kB/s eta 0:00:05\n",
      "   --------------------------- ------------ 7.6/11.0 MB 832.0 kB/s eta 0:00:05\n",
      "   ------------------------------ --------- 8.4/11.0 MB 895.4 kB/s eta 0:00:03\n",
      "   -------------------------------- ------- 8.9/11.0 MB 933.9 kB/s eta 0:00:03\n",
      "   ---------------------------------- ----- 9.4/11.0 MB 969.9 kB/s eta 0:00:02\n",
      "   ------------------------------------- -- 10.2/11.0 MB 1.0 MB/s eta 0:00:01\n",
      "   -------------------------------------- - 10.5/11.0 MB 1.0 MB/s eta 0:00:01\n",
      "   ---------------------------------------  10.7/11.0 MB 1.1 MB/s eta 0:00:01\n",
      "   ---------------------------------------- 11.0/11.0 MB 1.0 MB/s eta 0:00:00\n",
      "Downloading pytz-2025.2-py2.py3-none-any.whl (509 kB)\n",
      "Downloading tzdata-2025.2-py2.py3-none-any.whl (347 kB)\n",
      "Installing collected packages: pytz, tzdata, pandas\n",
      "Successfully installed pandas-2.3.0 pytz-2025.2 tzdata-2025.2\n",
      "Note: you may need to restart the kernel to use updated packages.\n"
     ]
    },
    {
     "name": "stderr",
     "output_type": "stream",
     "text": [
      "\n",
      "[notice] A new release of pip is available: 25.0.1 -> 25.1.1\n",
      "[notice] To update, run: python.exe -m pip install --upgrade pip\n"
     ]
    }
   ],
   "source": [
    "pip install pandas"
   ]
  },
  {
   "cell_type": "code",
   "execution_count": 7,
   "id": "bef2a00a",
   "metadata": {},
   "outputs": [],
   "source": [
    "import numpy as np\n",
    "import matplotlib.pyplot as plt\n",
    "import pandas as pd"
   ]
  },
  {
   "cell_type": "markdown",
   "id": "16220acd",
   "metadata": {},
   "source": [
    "Importing the dataset"
   ]
  },
  {
   "cell_type": "code",
   "execution_count": 8,
   "id": "0304e0e0",
   "metadata": {},
   "outputs": [],
   "source": [
    "dataset = pd.read_csv('./Data/Data.csv')\n",
    "X = dataset.iloc[:, :-1].values\n",
    "y = dataset.iloc[:, -1].values"
   ]
  },
  {
   "cell_type": "code",
   "execution_count": 9,
   "id": "395ef38f",
   "metadata": {},
   "outputs": [
    {
     "name": "stdout",
     "output_type": "stream",
     "text": [
      "[['France' 44.0 72000.0]\n",
      " ['Spain' 27.0 48000.0]\n",
      " ['Germany' 30.0 54000.0]\n",
      " ['Spain' 38.0 61000.0]\n",
      " ['Germany' 40.0 nan]\n",
      " ['France' 35.0 58000.0]\n",
      " ['Spain' nan 52000.0]\n",
      " ['France' 48.0 79000.0]\n",
      " ['Germany' 50.0 83000.0]\n",
      " ['France' 37.0 67000.0]]\n",
      "['No' 'Yes' 'No' 'No' 'Yes' 'Yes' 'No' 'Yes' 'No' 'Yes']\n"
     ]
    }
   ],
   "source": [
    "print(X)\n",
    "print(y)"
   ]
  },
  {
   "cell_type": "markdown",
   "id": "5b79fa26",
   "metadata": {},
   "source": [
    "Taking care of missing data"
   ]
  },
  {
   "cell_type": "code",
   "execution_count": 18,
   "id": "7dd974df",
   "metadata": {},
   "outputs": [
    {
     "name": "stdout",
     "output_type": "stream",
     "text": [
      "Collecting scikit-learn\n",
      "  Downloading scikit_learn-1.7.0-cp313-cp313-win_amd64.whl.metadata (14 kB)\n",
      "Requirement already satisfied: numpy>=1.22.0 in c:\\users\\rtirestu3456\\appdata\\local\\programs\\python\\python313\\lib\\site-packages (from scikit-learn) (2.3.1)\n",
      "Collecting scipy>=1.8.0 (from scikit-learn)\n",
      "  Downloading scipy-1.16.0-cp313-cp313-win_amd64.whl.metadata (60 kB)\n",
      "Collecting joblib>=1.2.0 (from scikit-learn)\n",
      "  Downloading joblib-1.5.1-py3-none-any.whl.metadata (5.6 kB)\n",
      "Collecting threadpoolctl>=3.1.0 (from scikit-learn)\n",
      "  Downloading threadpoolctl-3.6.0-py3-none-any.whl.metadata (13 kB)\n",
      "Downloading scikit_learn-1.7.0-cp313-cp313-win_amd64.whl (10.7 MB)\n",
      "   ---------------------------------------- 0.0/10.7 MB ? eta -:--:--\n",
      "   ---- ----------------------------------- 1.3/10.7 MB 7.6 MB/s eta 0:00:02\n",
      "   ----------- ---------------------------- 3.1/10.7 MB 8.0 MB/s eta 0:00:01\n",
      "   --------------- ------------------------ 4.2/10.7 MB 7.5 MB/s eta 0:00:01\n",
      "   ---------------------- ----------------- 6.0/10.7 MB 7.5 MB/s eta 0:00:01\n",
      "   ----------------------------- ---------- 7.9/10.7 MB 7.9 MB/s eta 0:00:01\n",
      "   ---------------------------------- ----- 9.2/10.7 MB 7.5 MB/s eta 0:00:01\n",
      "   ---------------------------------------  10.5/10.7 MB 7.8 MB/s eta 0:00:01\n",
      "   ---------------------------------------- 10.7/10.7 MB 7.0 MB/s eta 0:00:00\n",
      "Downloading joblib-1.5.1-py3-none-any.whl (307 kB)\n",
      "Downloading scipy-1.16.0-cp313-cp313-win_amd64.whl (38.4 MB)\n",
      "   ---------------------------------------- 0.0/38.4 MB ? eta -:--:--\n",
      "   - -------------------------------------- 1.0/38.4 MB 5.6 MB/s eta 0:00:07\n",
      "   -- ------------------------------------- 2.4/38.4 MB 6.4 MB/s eta 0:00:06\n",
      "   ---- ----------------------------------- 3.9/38.4 MB 7.2 MB/s eta 0:00:05\n",
      "   ------ --------------------------------- 5.8/38.4 MB 7.4 MB/s eta 0:00:05\n",
      "   ------- -------------------------------- 7.3/38.4 MB 7.4 MB/s eta 0:00:05\n",
      "   --------- ------------------------------ 8.7/38.4 MB 7.3 MB/s eta 0:00:05\n",
      "   ---------- ----------------------------- 10.0/38.4 MB 7.3 MB/s eta 0:00:04\n",
      "   ------------ --------------------------- 11.5/38.4 MB 7.1 MB/s eta 0:00:04\n",
      "   ------------- -------------------------- 13.1/38.4 MB 7.3 MB/s eta 0:00:04\n",
      "   --------------- ------------------------ 14.9/38.4 MB 7.4 MB/s eta 0:00:04\n",
      "   ---------------- ----------------------- 16.3/38.4 MB 7.3 MB/s eta 0:00:04\n",
      "   ----------------- ---------------------- 17.0/38.4 MB 7.3 MB/s eta 0:00:03\n",
      "   ------------------- -------------------- 18.6/38.4 MB 7.0 MB/s eta 0:00:03\n",
      "   ------------------- -------------------- 18.6/38.4 MB 7.0 MB/s eta 0:00:03\n",
      "   --------------------- ------------------ 20.4/38.4 MB 6.7 MB/s eta 0:00:03\n",
      "   ---------------------- ----------------- 21.2/38.4 MB 6.4 MB/s eta 0:00:03\n",
      "   ---------------------- ----------------- 22.0/38.4 MB 6.3 MB/s eta 0:00:03\n",
      "   ------------------------ --------------- 23.3/38.4 MB 6.2 MB/s eta 0:00:03\n",
      "   ------------------------- -------------- 24.6/38.4 MB 6.2 MB/s eta 0:00:03\n",
      "   -------------------------- ------------- 25.7/38.4 MB 6.3 MB/s eta 0:00:03\n",
      "   --------------------------- ------------ 26.5/38.4 MB 6.1 MB/s eta 0:00:02\n",
      "   ---------------------------- ----------- 27.5/38.4 MB 6.0 MB/s eta 0:00:02\n",
      "   ----------------------------- ---------- 28.6/38.4 MB 6.0 MB/s eta 0:00:02\n",
      "   ------------------------------ --------- 29.4/38.4 MB 5.9 MB/s eta 0:00:02\n",
      "   ------------------------------- -------- 30.4/38.4 MB 5.8 MB/s eta 0:00:02\n",
      "   -------------------------------- ------- 31.5/38.4 MB 5.8 MB/s eta 0:00:02\n",
      "   --------------------------------- ------ 32.5/38.4 MB 5.8 MB/s eta 0:00:02\n",
      "   ---------------------------------- ----- 33.3/38.4 MB 5.7 MB/s eta 0:00:01\n",
      "   ------------------------------------ --- 34.6/38.4 MB 5.7 MB/s eta 0:00:01\n",
      "   ------------------------------------- -- 35.7/38.4 MB 5.7 MB/s eta 0:00:01\n",
      "   ------------------------------------- -- 36.4/38.4 MB 5.7 MB/s eta 0:00:01\n",
      "   ---------------------------------------  37.7/38.4 MB 5.7 MB/s eta 0:00:01\n",
      "   ---------------------------------------- 38.4/38.4 MB 5.6 MB/s eta 0:00:00\n",
      "Downloading threadpoolctl-3.6.0-py3-none-any.whl (18 kB)\n",
      "Installing collected packages: threadpoolctl, scipy, joblib, scikit-learn\n",
      "Successfully installed joblib-1.5.1 scikit-learn-1.7.0 scipy-1.16.0 threadpoolctl-3.6.0\n",
      "Note: you may need to restart the kernel to use updated packages.\n"
     ]
    },
    {
     "name": "stderr",
     "output_type": "stream",
     "text": [
      "\n",
      "[notice] A new release of pip is available: 25.0.1 -> 25.1.1\n",
      "[notice] To update, run: python.exe -m pip install --upgrade pip\n"
     ]
    }
   ],
   "source": [
    "pip install scikit-learn"
   ]
  },
  {
   "cell_type": "code",
   "execution_count": 19,
   "id": "85d15fc7",
   "metadata": {},
   "outputs": [],
   "source": [
    "from sklearn.impute import SimpleImputer\n",
    "imputer = SimpleImputer(missing_values=np.nan, strategy='mean')\n",
    "imputer.fit(X[:, 1:3])\n",
    "X[:, 1:3] = imputer.transform(X[:, 1:3])"
   ]
  },
  {
   "cell_type": "code",
   "execution_count": 20,
   "id": "af3127db",
   "metadata": {},
   "outputs": [
    {
     "name": "stdout",
     "output_type": "stream",
     "text": [
      "[['France' 44.0 72000.0]\n",
      " ['Spain' 27.0 48000.0]\n",
      " ['Germany' 30.0 54000.0]\n",
      " ['Spain' 38.0 61000.0]\n",
      " ['Germany' 40.0 63777.77777777778]\n",
      " ['France' 35.0 58000.0]\n",
      " ['Spain' 38.77777777777778 52000.0]\n",
      " ['France' 48.0 79000.0]\n",
      " ['Germany' 50.0 83000.0]\n",
      " ['France' 37.0 67000.0]]\n"
     ]
    }
   ],
   "source": [
    "print(X)"
   ]
  },
  {
   "cell_type": "markdown",
   "id": "5b45eb62",
   "metadata": {},
   "source": [
    "Encoding categorical data"
   ]
  },
  {
   "cell_type": "code",
   "execution_count": 22,
   "id": "edec192e",
   "metadata": {},
   "outputs": [],
   "source": [
    "#Encoding the Independent Variable\n",
    "from sklearn.compose import ColumnTransformer\n",
    "from sklearn.preprocessing import OneHotEncoder\n",
    "ct = ColumnTransformer(transformers=[('encoder', OneHotEncoder(), [0])], remainder='passthrough')\n",
    "X = np.array(ct.fit_transform(X))"
   ]
  },
  {
   "cell_type": "code",
   "execution_count": 23,
   "id": "bcea170b",
   "metadata": {},
   "outputs": [
    {
     "name": "stdout",
     "output_type": "stream",
     "text": [
      "[[0.0 1.0 0.0 0.0 44.0 72000.0]\n",
      " [1.0 0.0 0.0 1.0 27.0 48000.0]\n",
      " [1.0 0.0 1.0 0.0 30.0 54000.0]\n",
      " [1.0 0.0 0.0 1.0 38.0 61000.0]\n",
      " [1.0 0.0 1.0 0.0 40.0 63777.77777777778]\n",
      " [0.0 1.0 0.0 0.0 35.0 58000.0]\n",
      " [1.0 0.0 0.0 1.0 38.77777777777778 52000.0]\n",
      " [0.0 1.0 0.0 0.0 48.0 79000.0]\n",
      " [1.0 0.0 1.0 0.0 50.0 83000.0]\n",
      " [0.0 1.0 0.0 0.0 37.0 67000.0]]\n"
     ]
    }
   ],
   "source": [
    "print(X)"
   ]
  },
  {
   "cell_type": "code",
   "execution_count": 24,
   "id": "26bacbfe",
   "metadata": {},
   "outputs": [],
   "source": [
    "#Encoding the Dependent Variable\n",
    "from sklearn.preprocessing import LabelEncoder\n",
    "le = LabelEncoder()\n",
    "y = le.fit_transform(y)"
   ]
  },
  {
   "cell_type": "code",
   "execution_count": 25,
   "id": "90023819",
   "metadata": {},
   "outputs": [
    {
     "name": "stdout",
     "output_type": "stream",
     "text": [
      "[0 1 0 0 1 1 0 1 0 1]\n"
     ]
    }
   ],
   "source": [
    "print(y)"
   ]
  },
  {
   "cell_type": "markdown",
   "id": "7a516ec6",
   "metadata": {},
   "source": [
    "Splitting the dataset into the Training set and Test set"
   ]
  },
  {
   "cell_type": "code",
   "execution_count": 26,
   "id": "69bd92d4",
   "metadata": {},
   "outputs": [],
   "source": [
    "from sklearn.model_selection import train_test_split\n",
    "X_train, X_test, y_train, y_test = train_test_split(X, y, test_size = 0.2, random_state = 1)"
   ]
  },
  {
   "cell_type": "code",
   "execution_count": 27,
   "id": "2fe694a2",
   "metadata": {},
   "outputs": [
    {
     "name": "stdout",
     "output_type": "stream",
     "text": [
      "[[1.0 0.0 0.0 1.0 38.77777777777778 52000.0]\n",
      " [1.0 0.0 1.0 0.0 40.0 63777.77777777778]\n",
      " [0.0 1.0 0.0 0.0 44.0 72000.0]\n",
      " [1.0 0.0 0.0 1.0 38.0 61000.0]\n",
      " [1.0 0.0 0.0 1.0 27.0 48000.0]\n",
      " [0.0 1.0 0.0 0.0 48.0 79000.0]\n",
      " [1.0 0.0 1.0 0.0 50.0 83000.0]\n",
      " [0.0 1.0 0.0 0.0 35.0 58000.0]]\n"
     ]
    }
   ],
   "source": [
    "print(X_train)"
   ]
  },
  {
   "cell_type": "code",
   "execution_count": 29,
   "id": "e43c7bda",
   "metadata": {},
   "outputs": [
    {
     "name": "stdout",
     "output_type": "stream",
     "text": [
      "[[1.0 0.0 1.0 0.0 30.0 54000.0]\n",
      " [0.0 1.0 0.0 0.0 37.0 67000.0]]\n"
     ]
    }
   ],
   "source": [
    "print(X_test)"
   ]
  },
  {
   "cell_type": "code",
   "execution_count": 30,
   "id": "4cafd4be",
   "metadata": {},
   "outputs": [
    {
     "name": "stdout",
     "output_type": "stream",
     "text": [
      "[0 1 0 0 1 1 0 1]\n"
     ]
    }
   ],
   "source": [
    "print(y_train)"
   ]
  },
  {
   "cell_type": "code",
   "execution_count": 31,
   "id": "1c06f25c",
   "metadata": {},
   "outputs": [
    {
     "name": "stdout",
     "output_type": "stream",
     "text": [
      "[0 1]\n"
     ]
    }
   ],
   "source": [
    "print(y_test)"
   ]
  },
  {
   "cell_type": "markdown",
   "id": "c26dc834",
   "metadata": {},
   "source": [
    "Feature Scaling"
   ]
  },
  {
   "cell_type": "code",
   "execution_count": 32,
   "id": "beee2d26",
   "metadata": {},
   "outputs": [],
   "source": [
    "from sklearn.preprocessing import StandardScaler\n",
    "sc = StandardScaler()\n",
    "X_train = sc.fit_transform(X_train)\n",
    "X_test = sc.transform(X_test)"
   ]
  },
  {
   "cell_type": "code",
   "execution_count": 33,
   "id": "09b3c745",
   "metadata": {},
   "outputs": [
    {
     "name": "stdout",
     "output_type": "stream",
     "text": [
      "[[ 0.77459667 -0.77459667 -0.57735027  1.29099445 -0.19159184 -1.07812594]\n",
      " [ 0.77459667 -0.77459667  1.73205081 -0.77459667 -0.01411729 -0.07013168]\n",
      " [-1.29099445  1.29099445 -0.57735027 -0.77459667  0.56670851  0.63356243]\n",
      " [ 0.77459667 -0.77459667 -0.57735027  1.29099445 -0.30453019 -0.30786617]\n",
      " [ 0.77459667 -0.77459667 -0.57735027  1.29099445 -1.90180114 -1.42046362]\n",
      " [-1.29099445  1.29099445 -0.57735027 -0.77459667  1.14753431  1.23265336]\n",
      " [ 0.77459667 -0.77459667  1.73205081 -0.77459667  1.43794721  1.57499104]\n",
      " [-1.29099445  1.29099445 -0.57735027 -0.77459667 -0.74014954 -0.56461943]]\n"
     ]
    }
   ],
   "source": [
    "print(X_train)"
   ]
  },
  {
   "cell_type": "code",
   "execution_count": 34,
   "id": "91f5b514",
   "metadata": {},
   "outputs": [
    {
     "name": "stdout",
     "output_type": "stream",
     "text": [
      "[[ 0.77459667 -0.77459667  1.73205081 -0.77459667 -1.46618179 -0.9069571 ]\n",
      " [-1.29099445  1.29099445 -0.57735027 -0.77459667 -0.44973664  0.20564034]]\n"
     ]
    }
   ],
   "source": [
    "print(X_test)"
   ]
  }
 ],
 "metadata": {
  "kernelspec": {
   "display_name": "Python 3",
   "language": "python",
   "name": "python3"
  },
  "language_info": {
   "codemirror_mode": {
    "name": "ipython",
    "version": 3
   },
   "file_extension": ".py",
   "mimetype": "text/x-python",
   "name": "python",
   "nbconvert_exporter": "python",
   "pygments_lexer": "ipython3",
   "version": "3.13.3"
  }
 },
 "nbformat": 4,
 "nbformat_minor": 5
}
